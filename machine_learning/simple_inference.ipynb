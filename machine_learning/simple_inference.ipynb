{
 "cells": [
  {
   "cell_type": "markdown",
   "metadata": {},
   "source": [
    "在 COMP90024-2019S1-Team7/machine_learning/ 下建立一个叫checkpoints的文件夹, 把模型文件放进去 "
   ]
  },
  {
   "cell_type": "code",
   "execution_count": 6,
   "metadata": {},
   "outputs": [],
   "source": [
    "import matplotlib.pyplot as plt\n",
    "import matplotlib.image as mpimg\n",
    "import numpy as np\n",
    "%matplotlib inline\n",
    "\n",
    "#这个是模型文件的路径\n",
    "model_checkpoint_file_path = 'checkpoints/nsfw_resnet101_adabound.pth_best.pth'\n",
    "\n",
    "#这个是要测试得图片路径\n",
    "test_image_path = '/Users/hanxunhuang/Data/nsfw/porn/ZRzHcnk.jpg'\n",
    "\n",
    "#先显示图片看看\n",
    "img = mpimg.imread(test_image_path)\n"
   ]
  },
  {
   "cell_type": "markdown",
   "metadata": {},
   "source": [
    "跑一下测试 取top5和score, 这个score是softmax之后的probability"
   ]
  },
  {
   "cell_type": "code",
   "execution_count": 7,
   "metadata": {},
   "outputs": [
    {
     "name": "stdout",
     "output_type": "stream",
     "text": [
      "building resnet101\n",
      "inference took 0.4740s\n",
      "[('porn', 0.8729585409164429), ('neutral', 0.11630863696336746), ('sexy', 0.00990478228777647), ('hentai', 0.0008024813141673803), ('drawings', 2.5550174541422166e-05)]\n"
     ]
    }
   ],
   "source": [
    "from coconut_inference import coconut_inference\n",
    "import time\n",
    "coconut = coconut_inference(model_checkpoint_file_path=model_checkpoint_file_path)\n",
    "\n",
    "start = time.time()\n",
    "rs = coconut.inference(image_path=test_image_path, num_of_perdict=5)\n",
    "end = time.time()\n",
    "print('inference took %.4fs' % (end - start))\n",
    "print(rs)"
   ]
  },
  {
   "cell_type": "markdown",
   "metadata": {},
   "source": [
    "这个是当前模型处理的所有类别"
   ]
  },
  {
   "cell_type": "code",
   "execution_count": null,
   "metadata": {},
   "outputs": [],
   "source": [
    "print(coconut.model_idx_to_class)"
   ]
  },
  {
   "cell_type": "code",
   "execution_count": null,
   "metadata": {},
   "outputs": [],
   "source": []
  }
 ],
 "metadata": {
  "kernelspec": {
   "display_name": "Python 3",
   "language": "python",
   "name": "python3"
  },
  "language_info": {
   "codemirror_mode": {
    "name": "ipython",
    "version": 3
   },
   "file_extension": ".py",
   "mimetype": "text/x-python",
   "name": "python",
   "nbconvert_exporter": "python",
   "pygments_lexer": "ipython3",
   "version": "3.6.5"
  }
 },
 "nbformat": 4,
 "nbformat_minor": 2
}
