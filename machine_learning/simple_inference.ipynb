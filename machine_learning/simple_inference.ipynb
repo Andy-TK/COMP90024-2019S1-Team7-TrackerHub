{
 "cells": [
  {
   "cell_type": "markdown",
   "metadata": {},
   "source": [
    "在 COMP90024-2019S1-Team7/machine_learning/ 下建立一个叫checkpoints的文件夹, 把模型文件放进去 "
   ]
  },
  {
   "cell_type": "code",
   "execution_count": null,
   "metadata": {},
   "outputs": [],
   "source": [
    "import matplotlib.pyplot as plt\n",
    "import matplotlib.image as mpimg\n",
    "import numpy as np\n",
    "%matplotlib inline\n",
    "\n",
    "#这个是要测试得图片路径\n",
    "test_image_path = '/Users/hanxunhuang/Desktop/test/11555928.jpg'\n",
    "\n",
    "#先显示图片看看\n",
    "img = mpimg.imread(test_image_path)\n",
    "plt.imshow(img)\n"
   ]
  },
  {
   "cell_type": "markdown",
   "metadata": {},
   "source": [
    "Benchmark一下看看各个model的performance, 取top5和score, 这个score是softmax之后的probability"
   ]
  },
  {
   "cell_type": "code",
   "execution_count": null,
   "metadata": {},
   "outputs": [],
   "source": [
    "from coconut_inference import coconut_inference\n",
    "import time\n",
    "\n",
    "def test_time(coconut):\n",
    "    start = time.time()\n",
    "    rs = coconut.inference(image_path=test_image_path, num_of_perdict=5)\n",
    "    end = time.time()\n",
    "    print('inference took %.4fs' % (end - start))\n",
    "\n",
    "# NSFW 模型路径\n",
    "nsfw_mobilenet_path = 'checkpoints/nsfw_mobilenet_sgd.pth_best.pth'\n",
    "nsfw_resnet50_path = 'checkpoints/nsfw_resnet50_sgd.pth_best.pth'\n",
    "nsfw_resnet101_sgd_path = 'checkpoints/nsfw_resnet101_sgd.pth_best.pth'\n",
    "nsfw_resnet101_adabound_path = 'checkpoints/nsfw_resnet101_adabound.pth_best.pth'\n",
    "\n",
    "# Food179 模型路径\n",
    "food179_mobilenet_path = 'checkpoints/food179_mobilenet_sgd.pth_best.pth'\n",
    "food179_resnet50_path = 'checkpoints/food179_resnet50_sgd.pth_best.pth'\n",
    "food179_resnet101_sgd_path = 'checkpoints/food179_resnet101_sgd.pth_best.pth'\n",
    "food179_resnet101_adabound_path = 'checkpoints/food179_resnet101_adabound.pth_best.pth'\n",
    "\n",
    "\n",
    "# 建立Inference\n",
    "coconut_nsfw_mobilenet = coconut_inference(model_checkpoint_file_path=nsfw_mobilenet_path)\n",
    "coconut_nsfw_resnet50 = coconut_inference(model_checkpoint_file_path=nsfw_resnet50_path)\n",
    "coconut_nsfw_resnet101_sgd = coconut_inference(model_checkpoint_file_path=nsfw_resnet101_sgd_path)\n",
    "coconut_nsfw_resnet101_adabound = coconut_inference(model_checkpoint_file_path=nsfw_resnet101_adabound_path)\n",
    "\n",
    "coconut_food179_mobilenet = coconut_inference(model_checkpoint_file_path=food179_mobilenet_path)\n",
    "coconut_food179_resnet50 = coconut_inference(model_checkpoint_file_path=food179_resnet50_path)\n",
    "coconut_food179_resnet101_sgd = coconut_inference(model_checkpoint_file_path=food179_resnet101_sgd_path)\n",
    "coconut_food179_resnet101_adabound = coconut_inference(model_checkpoint_file_path=food179_resnet101_adabound_path)\n",
    "\n",
    "\n",
    "print('=' * 20 + 'NSFW' + '=' * 20)\n",
    "\n",
    "test_time(coconut_nsfw_mobilenet)\n",
    "coconut_nsfw_mobilenet.print_model_details()\n",
    "\n",
    "test_time(coconut_nsfw_resnet50)\n",
    "coconut_nsfw_resnet50.print_model_details()\n",
    "\n",
    "test_time(coconut_nsfw_resnet101_sgd)\n",
    "coconut_nsfw_resnet101_sgd.print_model_details()\n",
    "\n",
    "test_time(coconut_nsfw_resnet101_adabound)\n",
    "coconut_nsfw_resnet101_adabound.print_model_details()\n",
    "\n",
    "print('=' * 20 + 'Food179' + '=' * 20)\n",
    "test_time(coconut_food179_mobilenet)\n",
    "coconut_food179_mobilenet.print_model_details()\n",
    "\n",
    "test_time(coconut_food179_resnet50)\n",
    "coconut_food179_resnet50.print_model_details()\n",
    "\n",
    "test_time(coconut_food179_resnet101_sgd)\n",
    "coconut_food179_resnet101_sgd.print_model_details()\n",
    "\n",
    "test_time(coconut_food179_resnet101_adabound)\n",
    "coconut_food179_resnet101_adabound.print_model_details()\n",
    "\n"
   ]
  },
  {
   "cell_type": "markdown",
   "metadata": {},
   "source": [
    "选一个模型跑一个测试"
   ]
  },
  {
   "cell_type": "code",
   "execution_count": null,
   "metadata": {},
   "outputs": [],
   "source": [
    "#这个是要测试得图片路径\n",
    "test_image_path = '/Users/hanxunhuang/Desktop/gHzHahodcfmutut5.jpg'\n",
    "\n",
    "#先显示图片看看\n",
    "img = mpimg.imread(test_image_path)\n",
    "plt.imshow(img)\n",
    "\n",
    "start = time.time()\n",
    "rs = coconut_food179_resnet101_sgd.inference(image_path=test_image_path, num_of_perdict=5)\n",
    "end = time.time()\n",
    "print('inference took %.4fs' % (end - start))\n",
    "print(rs)"
   ]
  },
  {
   "cell_type": "markdown",
   "metadata": {},
   "source": [
    "这个是当前模型处理的所有类别"
   ]
  },
  {
   "cell_type": "code",
   "execution_count": null,
   "metadata": {},
   "outputs": [],
   "source": [
    "print(coconut.model_idx_to_class)"
   ]
  },
  {
   "cell_type": "markdown",
   "metadata": {},
   "source": [
    "打开一张url图片 处理"
   ]
  },
  {
   "cell_type": "code",
   "execution_count": null,
   "metadata": {},
   "outputs": [],
   "source": [
    "from skimage import io\n",
    "\n",
    "#这个是要测试得图片URL\n",
    "test_image_url = 'http://pbs.twimg.com/media/D5PeaD7UcAE4Gca.jpg'\n",
    "image = io.imread(test_image_url)\n",
    "\n",
    "#显示图片看看\n",
    "plt.imshow(image)\n",
    "\n",
    "start = time.time()\n",
    "rs = coconut_food179_resnet101_sgd.inference(image_path=test_image_url, num_of_perdict=5, is_url_image=True)\n",
    "end = time.time()\n",
    "print('inference took %.4fs' % (end - start))\n",
    "print(rs)"
   ]
  },
  {
   "cell_type": "code",
   "execution_count": null,
   "metadata": {},
   "outputs": [],
   "source": [
    "import json\n",
    " \n",
    "temp_json_file_path = '/Users/hanxunhuang/Desktop/twitter_data.json'\n",
    "with open(temp_json_file_path, 'r') as f:\n",
    "    for line in f:\n",
    "        line = line[0:len(line)-2]\n",
    "        try:\n",
    "            tweet_json = json.loads(line)\n",
    "            if 'media' in tweet_json['entities']:\n",
    "                image_url = tweet_json['entities']['media'][0]['media_url']\n",
    "                food_179_rs = coconut_food179_resnet101_sgd.inference(image_path=image_url, num_of_perdict=5, is_url_image=True)\n",
    "                nsfw_rs = coconut_nsfw_resnet101_sgd.inference(image_path=image_url, num_of_perdict=5, is_url_image=True)\n",
    "                print(image_url)\n",
    "                print(food_179_rs)\n",
    "                print(nsfw_rs)\n",
    "                print()\n",
    "        except Exception as e:\n",
    "            print(e)\n",
    "            pass"
   ]
  },
  {
   "cell_type": "code",
   "execution_count": 1,
   "metadata": {},
   "outputs": [
    {
     "name": "stdout",
     "output_type": "stream",
     "text": [
      "P\n",
      "RGB\n",
      "RGB\n"
     ]
    }
   ],
   "source": [
    "from PIL import Image\n",
    "from io import BytesIO\n",
    "\n",
    "def reformat_Image(image_file_path, is_url_image=False, is_img_data=False):\n",
    "        if is_url_image:\n",
    "            response = requests.get(image_file_path)\n",
    "            image = Image.open(BytesIO(response.content))\n",
    "        elif is_img_data:\n",
    "            image = image_file_path\n",
    "        else:\n",
    "            image = Image.open(image_file_path, 'r')\n",
    "        \n",
    "        if image.mode == 'P':\n",
    "            print(image.mode)\n",
    "            new_image = Image.new(\"RGB\", image.size, (0, 0, 0))\n",
    "            if len(image.split()) > 3:\n",
    "                new_image.paste(image, mask=image.split()[3])\n",
    "                image = new_image\n",
    "            else:\n",
    "                image = image.convert('RGB')\n",
    "            print(image.mode)\n",
    "        elif image.mode != 'RGB':\n",
    "            image = image.convert('RGB')\n",
    "        \n",
    "        image_size = image.size\n",
    "        width = image_size[0]\n",
    "        height = image_size[1]\n",
    "        \n",
    "#         if(width != height):\n",
    "#             bigside = width if width > height else height\n",
    "#             background = Image.new('RGB', (bigside, bigside), (0, 0, 0))\n",
    "#             offset = (int(round(((bigside - width) / 2), 0)), int(round(((bigside - height) / 2),0)))\n",
    "#             background.paste(image, offset)\n",
    "#             img = background\n",
    "#             # print(\"%s has been resized to %s\" % (ImageFilePath, str(background.size)))\n",
    "#         else:\n",
    "        img = image\n",
    "            # print(\"%s is already a square, it has not been resized !\" % (ImageFilePath))\n",
    "#         img = img.resize((self.target_image_size, self.target_image_size))\n",
    "        # print(\"%s has been resized to %s\" % (ImageFilePath, str(img.size)))\n",
    "        return img\n",
    "png = '/Users/hanxunhuang/Desktop/download.png'\n",
    "jpg = '/Users/hanxunhuang/Data/comp90024_p2_nsfw_v3/train/drawings/0aTr7ly.jpg'\n",
    "img = reformat_Image(image_file_path=png)\n",
    "img.show()"
   ]
  },
  {
   "cell_type": "code",
   "execution_count": null,
   "metadata": {},
   "outputs": [],
   "source": []
  }
 ],
 "metadata": {
  "kernelspec": {
   "display_name": "Python 3",
   "language": "python",
   "name": "python3"
  },
  "language_info": {
   "codemirror_mode": {
    "name": "ipython",
    "version": 3
   },
   "file_extension": ".py",
   "mimetype": "text/x-python",
   "name": "python",
   "nbconvert_exporter": "python",
   "pygments_lexer": "ipython3",
   "version": "3.7.3"
  }
 },
 "nbformat": 4,
 "nbformat_minor": 2
}
